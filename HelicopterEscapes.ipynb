{
 "cells": [
  {
   "cell_type": "markdown",
   "metadata": {
    "tags": []
   },
   "source": [
    "# Helicopter Escapes\n",
    "\n",
    "## Questions im attempting to answer:\n",
    ">In which year did the most attempts at breaking out of prison with a helicopter occur?\n",
    "\n",
    ">In which countries do the most attempted helicopter prison escapes occur?"
   ]
  },
  {
   "cell_type": "markdown",
   "metadata": {
    "tags": []
   },
   "source": [
    "# Importing and Cleaning Data"
   ]
  },
  {
   "cell_type": "markdown",
   "metadata": {
    "tags": []
   },
   "source": [
    "#### We begin my importing some helper functions and matplotlib"
   ]
  },
  {
   "cell_type": "code",
   "execution_count": 101,
   "metadata": {},
   "outputs": [],
   "source": [
    "from helper import *\n",
    "import matplotlib.pyplot as plt"
   ]
  },
  {
   "cell_type": "markdown",
   "metadata": {},
   "source": [
    "#### Now, let's get the data from the [List of helicopter prison escapes](https://en.wikipedia.org/wiki/List_of_helicopter_prison_escapes) Wikipedia article."
   ]
  },
  {
   "cell_type": "code",
   "execution_count": 102,
   "metadata": {},
   "outputs": [],
   "source": [
    "url = 'https://en.wikipedia.org/wiki/List_of_helicopter_prison_escapes'\n",
    "data = data_from_url(url)"
   ]
  },
  {
   "cell_type": "markdown",
   "metadata": {},
   "source": [
    "#### Lets print the first three rows"
   ]
  },
  {
   "cell_type": "code",
   "execution_count": 103,
   "metadata": {},
   "outputs": [
    {
     "name": "stdout",
     "output_type": "stream",
     "text": [
      "['August 19, 1971', 'Santa Martha Acatitla', 'Mexico', 'Yes', 'Joel David Kaplan Carlos Antonio Contreras Castro', \"Joel David Kaplan was a New York businessman who had been arrested for murder in 1962 in Mexico City and was incarcerated at the Santa Martha Acatitla prison in the Iztapalapa borough of Mexico City. Joel's sister, Judy Kaplan, arranged the means for to help Kaplan escape, and on August 19, 1971, a helicopter landed in the prison yard. The guards mistakenly thought this was an official visit. In two minutes, Kaplan and his cellmate Carlos Antonio Contreras, a Venezuelan counterfeiter, were able to board the craft and were piloted away, before any shots were fired.[9] Both men were flown to Texas and then different planes flew Kaplan to California and Castro to Guatemala.[3] The Mexican government never initiated extradition proceedings against Kaplan.[9] The escape is told in a book, The 10-Second Jailbreak: The Helicopter Escape of Joel David Kaplan.[4] It also inspired the 1975 action movie Breakout, which starred Charles Bronson and Robert Duvall.[9]\"]\n",
      "\n",
      "['October 31, 1973', 'Mountjoy Jail', 'Ireland', 'Yes', \"JB O'Hagan Seamus TwomeyKevin Mallon\", 'On October 31, 1973 an IRA member hijacked a helicopter and forced the pilot to land in the exercise yard of Dublin\\'s Mountjoy Jail\\'s D Wing at 3:40\\xa0p.m., October 31, 1973. Three members of the IRA were able to escape: JB O\\'Hagan, Seamus Twomey and Kevin Mallon. Another prisoner who also was in the prison was quoted as saying, \"One shamefaced screw apologised to the governor and said he thought it was the new Minister for Defence (Paddy Donegan) arriving. I told him it was our Minister of Defence leaving.\" The Mountjoy helicopter escape became Republican lore and was immortalized by \"The Helicopter Song\", which contains the lines \"It\\'s up like a bird and over the city. There\\'s three men a\\'missing I heard the warder say\".[1]']\n",
      "\n",
      "['May 24, 1978', 'United States Penitentiary, Marion', 'United States', 'No', 'Garrett Brock TrapnellMartin Joseph McNallyJames Kenneth Johnson', \"43-year-old Barbara Ann Oswald hijacked a Saint Louis-based charter helicopter and forced the pilot to land in the yard at USP Marion. While landing the aircraft, the pilot, Allen Barklage, who was a Vietnam War veteran, struggled with Oswald and managed to wrestle the gun away from her. Barklage then shot and killed Oswald, thwarting the escape.[10] A few months later Oswald's daughter hijacked TWA Flight 541 in an effort to free Trapnell.\"]\n",
      "\n"
     ]
    }
   ],
   "source": [
    "data_first_three = data[:3]\n",
    "\n",
    "for i in data_first_three:\n",
    "    print(i)\n",
    "    print('')"
   ]
  },
  {
   "cell_type": "markdown",
   "metadata": {
    "tags": []
   },
   "source": [
    "#### Lets remove the details column, so its not so cluttered"
   ]
  },
  {
   "cell_type": "code",
   "execution_count": 104,
   "metadata": {},
   "outputs": [],
   "source": [
    "index = 0\n",
    "\n",
    "for row in data:\n",
    "    row.remove(row[-1])\n",
    "    data[index] = row\n",
    "    index += 1"
   ]
  },
  {
   "cell_type": "markdown",
   "metadata": {},
   "source": [
    "#### Lets print a few rows, to make sure everything went smoothly."
   ]
  },
  {
   "cell_type": "code",
   "execution_count": 105,
   "metadata": {},
   "outputs": [
    {
     "name": "stdout",
     "output_type": "stream",
     "text": [
      "['August 19, 1971', 'Santa Martha Acatitla', 'Mexico', 'Yes', 'Joel David Kaplan Carlos Antonio Contreras Castro']\n",
      "['October 31, 1973', 'Mountjoy Jail', 'Ireland', 'Yes', \"JB O'Hagan Seamus TwomeyKevin Mallon\"]\n",
      "['May 24, 1978', 'United States Penitentiary, Marion', 'United States', 'No', 'Garrett Brock TrapnellMartin Joseph McNallyJames Kenneth Johnson']\n"
     ]
    }
   ],
   "source": [
    "for row in data_first_three:\n",
    "    print(row)"
   ]
  },
  {
   "cell_type": "markdown",
   "metadata": {},
   "source": [
    "#### Now lets change the dates to only their years, using the fetch_year() helper function."
   ]
  },
  {
   "cell_type": "code",
   "execution_count": 106,
   "metadata": {},
   "outputs": [],
   "source": [
    "for row in data:\n",
    "    row[0] = fetch_year(row[0])"
   ]
  },
  {
   "cell_type": "markdown",
   "metadata": {},
   "source": [
    "#### Again, lets print a few rows, to make sure everything went smoothly."
   ]
  },
  {
   "cell_type": "code",
   "execution_count": 107,
   "metadata": {},
   "outputs": [
    {
     "name": "stdout",
     "output_type": "stream",
     "text": [
      "[1971, 'Santa Martha Acatitla', 'Mexico', 'Yes', 'Joel David Kaplan Carlos Antonio Contreras Castro']\n",
      "[1973, 'Mountjoy Jail', 'Ireland', 'Yes', \"JB O'Hagan Seamus TwomeyKevin Mallon\"]\n",
      "[1978, 'United States Penitentiary, Marion', 'United States', 'No', 'Garrett Brock TrapnellMartin Joseph McNallyJames Kenneth Johnson']\n"
     ]
    }
   ],
   "source": [
    "for row in data_first_three:\n",
    "    print(row)"
   ]
  },
  {
   "cell_type": "markdown",
   "metadata": {},
   "source": [
    "#### Finding min and max years, as well as making a list of years in data"
   ]
  },
  {
   "cell_type": "code",
   "execution_count": 108,
   "metadata": {},
   "outputs": [],
   "source": [
    "min_year = min(data, key=lambda x: x[0])[0]\n",
    "max_year = max(data, key=lambda x: x[0])[0]\n",
    "\n",
    "years = []\n",
    "for y in range(min_year, max_year + 1):\n",
    "    years.append(y)"
   ]
  },
  {
   "cell_type": "markdown",
   "metadata": {},
   "source": [
    "#### We remove any duplicate years in the data, and then append a list of attempts per year. We will add these attempts in the next step."
   ]
  },
  {
   "cell_type": "code",
   "execution_count": 109,
   "metadata": {},
   "outputs": [],
   "source": [
    "unique_years = []\n",
    "attempts_per_year = []\n",
    "for i in years:\n",
    "    count = unique_years.count(i)\n",
    "    if count == 0:\n",
    "        unique_years.append(i)\n",
    "    else:\n",
    "        continue\n",
    "for i in unique_years:\n",
    "    attempts_per_year.append([i,0])"
   ]
  },
  {
   "cell_type": "markdown",
   "metadata": {
    "tags": []
   },
   "source": [
    "# Analysis"
   ]
  },
  {
   "cell_type": "markdown",
   "metadata": {},
   "source": [
    "#### Now we can count the attempts made to escape per year"
   ]
  },
  {
   "cell_type": "code",
   "execution_count": 110,
   "metadata": {},
   "outputs": [
    {
     "name": "stdout",
     "output_type": "stream",
     "text": [
      "[[1971, 1], [1972, 0], [1973, 1], [1974, 0], [1975, 0], [1976, 0], [1977, 0], [1978, 1], [1979, 0], [1980, 0], [1981, 2], [1982, 0], [1983, 1], [1984, 0], [1985, 2], [1986, 3], [1987, 1], [1988, 1], [1989, 2], [1990, 1], [1991, 1], [1992, 2], [1993, 1], [1994, 0], [1995, 0], [1996, 1], [1997, 1], [1998, 0], [1999, 1], [2000, 2], [2001, 3], [2002, 2], [2003, 1], [2004, 0], [2005, 2], [2006, 1], [2007, 3], [2008, 0], [2009, 3], [2010, 1], [2011, 0], [2012, 1], [2013, 2], [2014, 1], [2015, 0], [2016, 1], [2017, 0], [2018, 1], [2019, 0], [2020, 1]]\n"
     ]
    }
   ],
   "source": [
    "for row in data:\n",
    "    for ya in attempts_per_year:\n",
    "        y = ya[0]\n",
    "        if row[0] == y:\n",
    "            ya[1] += 1\n",
    "print(attempts_per_year)"
   ]
  },
  {
   "cell_type": "markdown",
   "metadata": {},
   "source": [
    "#### Lets see that visualized in a simple chart below:"
   ]
  },
  {
   "cell_type": "code",
   "execution_count": 111,
   "metadata": {},
   "outputs": [
    {
     "data": {
      "image/png": "[encoded data removed]",
      "text/plain": [
       "<Figure size 648x1080 with 1 Axes>"
      ]
     },
     "metadata": {
      "needs_background": "light"
     },
     "output_type": "display_data"
    }
   ],
   "source": [
    "%matplotlib inline\n",
    "barplot(attempts_per_year)"
   ]
  },
  {
   "cell_type": "markdown",
   "metadata": {},
   "source": [
    "#### We now can answer the question **In which year did the most attempts at breaking out of prison with a helicopter occur?**\n",
    "\n",
    "#### Answer: 1986, 2001, 2007, and 2009 are all tied for 3 attempts"
   ]
  },
  {
   "cell_type": "markdown",
   "metadata": {},
   "source": [
    "#### Lets work on the 2nd question: **In which countries do the most attempted helicopter prison escapes occur?**"
   ]
  },
  {
   "cell_type": "code",
   "execution_count": 112,
   "metadata": {},
   "outputs": [
    {
     "name": "stdout",
     "output_type": "stream",
     "text": [
      "France            15\n",
      "United States      8\n",
      "Canada             4\n",
      "Greece             4\n",
      "Belgium            4\n",
      "Australia          2\n",
      "Brazil             2\n",
      "United Kingdom     2\n",
      "Mexico             1\n",
      "Ireland            1\n",
      "Italy              1\n",
      "Puerto Rico        1\n",
      "Chile              1\n",
      "Netherlands        1\n",
      "Russia             1\n",
      "Name: Country, dtype: int64\n"
     ]
    }
   ],
   "source": [
    "countries_frequency = df[\"Country\"].value_counts()\n",
    "print(countries_frequency)"
   ]
  },
  {
   "cell_type": "code",
   "execution_count": 113,
   "metadata": {},
   "outputs": [
    {
     "data": {
      "image/png": "[encoded data removed]",
      "text/plain": [
       "<Figure size 432x288 with 1 Axes>"
      ]
     },
     "metadata": {
      "needs_background": "light"
     },
     "output_type": "display_data"
    }
   ],
   "source": [
    "for i, j in countries_frequency.items():\n",
    "    plt.bar(i,j)\n",
    "    plt.xticks(rotation = 90)\n",
    "plt.show()"
   ]
  },
  {
   "cell_type": "markdown",
   "metadata": {},
   "source": [
    "#### Answer: France by a longshot has the most attempted helicopter prison escapes."
   ]
  },
  {
   "cell_type": "markdown",
   "metadata": {},
   "source": [
    "#### Now lets check out: **In which countries do helicopter prison breaks have a higher chance of success?**"
   ]
  },
  {
   "cell_type": "markdown",
   "metadata": {},
   "source": [
    "#### We will calculate this by counting the number of sucesses, and divde them by total attempts (number of occurances)\n",
    "\n",
    "#### wins / attempts = win %"
   ]
  },
  {
   "cell_type": "code",
   "execution_count": 114,
   "metadata": {},
   "outputs": [
    {
     "name": "stdout",
     "output_type": "stream",
     "text": [
      "The overall success rate of attempted escapes is: 70.83%\n"
     ]
    }
   ],
   "source": [
    "success_frequency_overall = df['Succeeded'].value_counts()\n",
    "wins = success_frequency_overall[0]\n",
    "losses = success_frequency_overall[1]\n",
    "total = wins + losses\n",
    "\n",
    "win_percentage_total = wins / total\n",
    "print('The overall success rate of attempted escapes is: {:.2f}%'.format(win_percentage_total * 100))"
   ]
  },
  {
   "cell_type": "code",
   "execution_count": 115,
   "metadata": {},
   "outputs": [
    {
     "name": "stdout",
     "output_type": "stream",
     "text": [
      "{'Mexico': [0, 1], 'Ireland': [0, 1], 'United States': [2, 6], 'France': [4, 11], 'Canada': [1, 3], 'Australia': [1, 1], 'Brazil': [0, 2], 'Italy': [0, 1], 'United Kingdom': [1, 1], 'Puerto Rico': [0, 1], 'Chile': [0, 1], 'Netherlands': [1, 0], 'Greece': [2, 2], 'Belgium': [2, 2], 'Russia': [0, 1]}\n"
     ]
    }
   ],
   "source": [
    "success_per_country = {} #{'Country': [fails, success]}\n",
    "\n",
    "for row in data:\n",
    "    country = row[2]\n",
    "    if country in success_per_country:\n",
    "        if row[3] == 'Yes':\n",
    "            success_per_country[country][1] = success_per_country[country][1] + 1\n",
    "        else:\n",
    "            success_per_country[country][0] = success_per_country[country][0] + 1\n",
    "    else:\n",
    "        success_per_country[country] = [0,0]\n",
    "        if row[3] == 'Yes':\n",
    "            success_per_country[country][1] = success_per_country[country][1] + 1\n",
    "        else:\n",
    "            success_per_country[country][0] = success_per_country[country][0] + 1\n",
    "print(success_per_country)"
   ]
  },
  {
   "cell_type": "markdown",
   "metadata": {},
   "source": [
    "*A quick side calculation out of curiosity that totals the success rate for all other countries combines, vs united states and france*"
   ]
  },
  {
   "cell_type": "code",
   "execution_count": 116,
   "metadata": {},
   "outputs": [
    {
     "name": "stdout",
     "output_type": "stream",
     "text": [
      "Total countries attempts, excluding the US and France, hold a: 68.00% success rate with 25 total occurences\n",
      "Total of United States and France alone: 73.91% success rate 23 total occurences\n",
      "\n"
     ]
    }
   ],
   "source": [
    "no_f_no_u = success_per_country.copy()\n",
    "no_f_no_u.pop('United States')\n",
    "no_f_no_u.pop('France')\n",
    "nfnu_wins = 0\n",
    "nfnu_losses = 0\n",
    "\n",
    "for value in no_f_no_u.values():\n",
    "    nfnu_wins += value[1]\n",
    "    nfnu_losses += value[0]\n",
    "nfnu_total_attempts = nfnu_wins + nfnu_losses\n",
    "\n",
    "us_f_wins = success_per_country['United States'][1] + success_per_country['France'][1]\n",
    "us_f_losses = success_per_country['United States'][0] + success_per_country['France'][0]\n",
    "us_f_totals = us_f_wins + us_f_losses\n",
    "print(\"Total countries attempts, excluding the US and France, hold a: {:.2f}% success rate with {} total occurences\".format((nfnu_wins / nfnu_total_attempts) * 100, nfnu_total_attempts))\n",
    "print(\"Total of United States and France alone: {:.2f}% success rate {} total occurences\".format((us_f_wins / us_f_totals) * 100, us_f_totals))\n",
    "print()    "
   ]
  },
  {
   "cell_type": "markdown",
   "metadata": {},
   "source": [
    "#### Lets graph the wins vs successes"
   ]
  },
  {
   "cell_type": "code",
   "execution_count": 117,
   "metadata": {},
   "outputs": [
    {
     "data": {
      "image/png": "[encoded data removed]",
      "text/plain": [
       "<Figure size 432x288 with 1 Axes>"
      ]
     },
     "metadata": {
      "needs_background": "light"
     },
     "output_type": "display_data"
    }
   ],
   "source": [
    "country_names = list(success_per_country.keys())\n",
    "successes = [i[1] for i in success_per_country.values()]\n",
    "failures = [i[0] for i in success_per_country.values()]\n",
    "\n",
    "plt.bar(country_names, successes, label = 'Successes',color = 'blue')\n",
    "plt.bar(country_names, failures, bottom = successes, label = 'Failures', color = 'red')\n",
    "plt.xticks(rotation = 90)\n",
    "plt.ylabel('Wins/Losses')\n",
    "plt.title('Total Occurences')\n",
    "plt.legend()\n",
    "plt.show()"
   ]
  },
  {
   "cell_type": "markdown",
   "metadata": {},
   "source": [
    "#### Now we calculate our win rate calculation for each of our countries."
   ]
  },
  {
   "cell_type": "code",
   "execution_count": 118,
   "metadata": {},
   "outputs": [
    {
     "name": "stdout",
     "output_type": "stream",
     "text": [
      "{'Mexico': 100.0, 'Ireland': 100.0, 'United States': 75.0, 'France': 73.33333333333333, 'Canada': 75.0, 'Australia': 50.0, 'Brazil': 100.0, 'Italy': 100.0, 'United Kingdom': 50.0, 'Puerto Rico': 100.0, 'Chile': 100.0, 'Netherlands': 0.0, 'Greece': 50.0, 'Belgium': 50.0, 'Russia': 100.0}\n"
     ]
    }
   ],
   "source": [
    "win_rate_per_country = {}\n",
    "for key,values in success_per_country.items():\n",
    "    win_rate_per_country[key] = (values[1]/ (values[1] + values[0])) * 100\n",
    "print(win_rate_per_country)"
   ]
  },
  {
   "cell_type": "code",
   "execution_count": 119,
   "metadata": {},
   "outputs": [
    {
     "data": {
      "image/png": "[encoded data removed]",
      "text/plain": [
       "<Figure size 432x288 with 1 Axes>"
      ]
     },
     "metadata": {
      "needs_background": "light"
     },
     "output_type": "display_data"
    }
   ],
   "source": [
    "countries_bar_plot = win_rate_per_country.keys()\n",
    "win_percentage_bar_plot = win_rate_per_country.values()\n",
    "plt.bar(countries_bar_plot,win_percentage_bar_plot)\n",
    "plt.xticks(rotation = 90)\n",
    "plt.title(\"Total Winrates\")\n",
    "plt.ylabel(\"Percentage Winrate\")\n",
    "plt.show()"
   ]
  },
  {
   "cell_type": "markdown",
   "metadata": {},
   "source": [
    "#### The problem with the above chart is that it doesnt give us a proper idea of what countries have a higher success rate. The 75% winrate of the United States doesnt seem great, until you notice that **all** of the 100% success rate countries have only had 1 or 2 attempts, whereas the united states have had 8 total attempts. Lets see if we can visualize this data better"
   ]
  },
  {
   "cell_type": "code",
   "execution_count": 120,
   "metadata": {},
   "outputs": [
    {
     "data": {
      "image/png": "[encoded data removed]",
      "text/plain": [
       "<Figure size 432x288 with 1 Axes>"
      ]
     },
     "metadata": {
      "needs_background": "light"
     },
     "output_type": "display_data"
    }
   ],
   "source": [
    "country_occ_totals = {}\n",
    "for key,value in success_per_country.items():\n",
    "    plt.bar(key, value[1])\n",
    "plt.xticks(rotation = 90)\n",
    "plt.ylabel('Successful Attempts')\n",
    "plt.title('Successful Attempts per Country')\n",
    "plt.show()"
   ]
  },
  {
   "cell_type": "markdown",
   "metadata": {},
   "source": [
    "#### This is a little better view. We can see that most countries hover around 1-3 successful attempts. But France stands far and above everyone else with a 73% success rate with 11 total successes, and the United States being the only close runner up with a 75% success rate with 6 total successes. To me this means that if youre locked up in France, youd have a much higher chance of a successful escape."
   ]
  },
  {
   "cell_type": "markdown",
   "metadata": {},
   "source": [
    "*Since france has more total occurences than the united states, the winrate stands a bit stronger, even though the united states win rate is better. This idea should come intuitively, as we can easily see the instability of 1 or 2 attempts. There just isnt enough data to tell. More data equals stronger evidence AKA Law of Large Numbers (generally)*"
   ]
  },
  {
   "cell_type": "markdown",
   "metadata": {},
   "source": [
    "# Conclusions\n",
    ">In which year did the most attempts at breaking out of prison with a helicopter occur?\n",
    ">> 1986, 2001, 2007, and 2009 are all tied for 3 attempts\n",
    "\n",
    ">In which countries do the most attempted helicopter prison escapes occur?\n",
    ">> France and the United States with a combined 74%~ success rate over 23 total attempts. ***All other attempts in other countries total 25, making France and the United States double the rest of the countries combined***\n",
    "\n",
    ">Other Conclusions and Findings\n",
    ">> There was an overall successrate of **70.83%** which is incredible. You have decent chances of escaping in any country really of you have a helicopter. But the most proven countries to attempt it are the US and France\n",
    "\n",
    ">> Total countries occurences, excluding the US and France, hold a: 68.00% success rate with 25 total occurences\n",
    "\n",
    ">> Total of United States and France alone: 73.91% success rate 23 total occurences"
   ]
  },
  {
   "cell_type": "markdown",
   "metadata": {},
   "source": [
    "## Future Questions To Answer:\n",
    ">How does the number of escapees affect the success?\n",
    "\n",
    ">Which escapees have done it more than once?"
   ]
  }
 ],
 "metadata": {
  "kernelspec": {
   "display_name": "Python 3 (ipykernel)",
   "language": "python",
   "name": "python3"
  },
  "language_info": {
   "codemirror_mode": {
    "name": "ipython",
    "version": 3
   },
   "file_extension": ".py",
   "mimetype": "text/x-python",
   "name": "python",
   "nbconvert_exporter": "python",
   "pygments_lexer": "ipython3",
   "version": "3.9.7"
  }
 },
 "nbformat": 4,
 "nbformat_minor": 4
}
